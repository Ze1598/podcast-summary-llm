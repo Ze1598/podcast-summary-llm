{
 "cells": [
  {
   "cell_type": "code",
   "execution_count": null,
   "metadata": {},
   "outputs": [],
   "source": [
    "from dotenv import dotenv_values\n",
    "import google.generativeai as genai"
   ]
  },
  {
   "cell_type": "code",
   "execution_count": null,
   "metadata": {},
   "outputs": [],
   "source": [
    "# Load variables from local environment variables fiile as a dictionary\n",
    "env = dotenv_values(\".env\")"
   ]
  },
  {
   "cell_type": "code",
   "execution_count": null,
   "metadata": {},
   "outputs": [],
   "source": [
    "# Configure API key authentication to Google Cloud\n",
    "genai.configure(api_key = env[\"GOOGLE_API_KEY\"])"
   ]
  },
  {
   "cell_type": "code",
   "execution_count": null,
   "metadata": {},
   "outputs": [],
   "source": [
    "for m in genai.list_models():\n",
    "  if 'generateContent' in m.supported_generation_methods:\n",
    "    print(m.name)"
   ]
  },
  {
   "cell_type": "code",
   "execution_count": null,
   "metadata": {},
   "outputs": [],
   "source": [
    "# Set up the model\n",
    "# generation_config = {\n",
    "#   \"temperature\": 1,\n",
    "#   \"top_p\": 0.95,\n",
    "#   \"top_k\": 0,\n",
    "#   \"max_output_tokens\": 8192,\n",
    "# }"
   ]
  },
  {
   "cell_type": "code",
   "execution_count": null,
   "metadata": {},
   "outputs": [],
   "source": [
    "# safety_settings = [\n",
    "#   {\n",
    "# \t\"category\": \"HARM_CATEGORY_HARASSMENT\",\n",
    "# \t\"threshold\": \"BLOCK_MEDIUM_AND_ABOVE\"\n",
    "#   },\n",
    "#   {\n",
    "# \t\"category\": \"HARM_CATEGORY_HATE_SPEECH\",\n",
    "# \t\"threshold\": \"BLOCK_MEDIUM_AND_ABOVE\"\n",
    "#   },\n",
    "#   {\n",
    "# \t\"category\": \"HARM_CATEGORY_SEXUALLY_EXPLICIT\",\n",
    "# \t\"threshold\": \"BLOCK_MEDIUM_AND_ABOVE\"\n",
    "#   },\n",
    "#   {\n",
    "# \t\"category\": \"HARM_CATEGORY_DANGEROUS_CONTENT\",\n",
    "# \t\"threshold\": \"BLOCK_MEDIUM_AND_ABOVE\"\n",
    "#   },\n",
    "# ]"
   ]
  },
  {
   "cell_type": "code",
   "execution_count": null,
   "metadata": {},
   "outputs": [],
   "source": [
    "# Call the model and print the response.\n",
    "gemini = genai.GenerativeModel(model_name = \"gemini-1.5-pro-latest\")\n",
    "\n",
    "chat = gemini.start_chat(history=list())\n",
    "\n",
    "prompt = f\"Please provide a chapter-isation of the video, alongisde a summary and two quotes  of each chapter: https://www.youtube.com/watch?v=H5LRc-RGXTc\"\n",
    "response = chat.send_message(\n",
    "    prompt\n",
    "    # ,generation_config=generation_config\n",
    "    # ,safety_settings=safety_settings\n",
    "    # ,stream=stream\n",
    "  )"
   ]
  },
  {
   "cell_type": "code",
   "execution_count": null,
   "metadata": {},
   "outputs": [],
   "source": [
    "response.text"
   ]
  },
  {
   "cell_type": "code",
   "execution_count": null,
   "metadata": {},
   "outputs": [],
   "source": [
    "response.prompt_feedback"
   ]
  },
  {
   "cell_type": "code",
   "execution_count": null,
   "metadata": {},
   "outputs": [],
   "source": [
    "response.candidates"
   ]
  }
 ],
 "metadata": {
  "kernelspec": {
   "display_name": "Python 3 (ipykernel)",
   "language": "python",
   "name": "python3"
  }
 },
 "nbformat": 4,
 "nbformat_minor": 4
}
